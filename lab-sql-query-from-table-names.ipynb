{
 "cells": [
  {
   "cell_type": "markdown",
   "id": "00a57394-53dd-47cd-a5e7-6e7122bbb0f6",
   "metadata": {},
   "source": [
    "# SQL query from table names"
   ]
  },
  {
   "cell_type": "markdown",
   "id": "86bc2813-763c-49f2-9f5d-e1f87a20556f",
   "metadata": {
    "id": "86bc2813-763c-49f2-9f5d-e1f87a20556f"
   },
   "source": [
    "In This notebook we are going to test if using just the name of the table, and a shord definition of its contect we can use a model like GTP3.5-Turbo to select which tables are necessary to create a SQL Order to answer the user petition."
   ]
  },
  {
   "cell_type": "code",
   "execution_count": null,
   "id": "7fbbdf5b-4d7f-4496-8f40-9d15ea46d023",
   "metadata": {
    "id": "7fbbdf5b-4d7f-4496-8f40-9d15ea46d023"
   },
   "outputs": [],
   "source": [
    "from openai import OpenAI\n",
    "import os\n",
    "from dotenv import load_dotenv, find_dotenv\n",
    "_ = load_dotenv(find_dotenv())\n",
    "\n",
    "OPENAI_API_KEY  = os.getenv('OPENAI_API_KEY')"
   ]
  },
  {
   "cell_type": "code",
   "execution_count": 2,
   "id": "e480bbfb-9a80-4ea6-b792-067e63ae3148",
   "metadata": {
    "id": "e480bbfb-9a80-4ea6-b792-067e63ae3148"
   },
   "outputs": [],
   "source": [
    "#Functio to call the model.\n",
    "def return_OAI(user_message):\n",
    "    client = OpenAI(\n",
    "    # This is the default and can be omitted\n",
    "    api_key=OPENAI_API_KEY,\n",
    ")\n",
    "    context = []\n",
    "    context.append({'role':'system', \"content\": user_message})\n",
    "\n",
    "    response = client.chat.completions.create(\n",
    "            model=\"gpt-3.5-turbo\",\n",
    "            messages=context,\n",
    "            temperature=0,\n",
    "        )\n",
    "\n",
    "    return (response.choices[0].message.content)"
   ]
  },
  {
   "cell_type": "code",
   "execution_count": 7,
   "id": "6d5d2bdc-d822-4ed8-815e-b3f223730f15",
   "metadata": {
    "id": "6d5d2bdc-d822-4ed8-815e-b3f223730f15",
    "outputId": "61068bf0-41e3-40d9-b453-b76da5b0f086"
   },
   "outputs": [
    {
     "name": "stdout",
     "output_type": "stream",
     "text": [
      "       table                                         definition\n",
      "0  employees  Employee information, name, position, departme...\n",
      "1     salary  Salary details for each year, including base, ...\n",
      "2    studies  Educational studies, name of the institution, ...\n"
     ]
    }
   ],
   "source": [
    "import pandas as pd\n",
    "\n",
    "# Define the tables and their descriptions\n",
    "data = {\n",
    "    'table': ['employees', 'salary', 'studies'],\n",
    "    'definition': [\n",
    "        'Employee information, name, position, department, and start date.',\n",
    "        'Salary details for each year, including base, bonus, and adjustments.',\n",
    "        'Educational studies, name of the institution, degree, and graduation year.'\n",
    "    ]\n",
    "}\n",
    "\n",
    "df = pd.DataFrame(data)\n",
    "print(df)\n"
   ]
  },
  {
   "cell_type": "code",
   "execution_count": 8,
   "id": "009e681c-d95d-4c9c-b044-5bfd76e3ad95",
   "metadata": {
    "id": "009e681c-d95d-4c9c-b044-5bfd76e3ad95"
   },
   "outputs": [],
   "source": [
    "text_tables = '\\n'.join([f\"{row['table']}: {row['definition']}\" for index, row in df.iterrows()])"
   ]
  },
  {
   "cell_type": "code",
   "execution_count": 9,
   "id": "fe03ac25-8d02-4cd1-99a1-be4220c6fd2d",
   "metadata": {
    "id": "fe03ac25-8d02-4cd1-99a1-be4220c6fd2d",
    "outputId": "c1f3aab1-5f26-48fe-fcf9-3780120f5aad"
   },
   "outputs": [
    {
     "name": "stdout",
     "output_type": "stream",
     "text": [
      "employees: Employee information, name, position, department, and start date.\n",
      "salary: Salary details for each year, including base, bonus, and adjustments.\n",
      "studies: Educational studies, name of the institution, degree, and graduation year.\n"
     ]
    }
   ],
   "source": [
    "print(text_tables)"
   ]
  },
  {
   "cell_type": "code",
   "execution_count": 10,
   "id": "c7e275ae-f20d-4134-b9b6-d8677dfb544c",
   "metadata": {
    "id": "c7e275ae-f20d-4134-b9b6-d8677dfb544c"
   },
   "outputs": [],
   "source": [
    "prompt_question_tables = \"\"\"\n",
    "Given the following tables and their content definitions,\n",
    "###Tables\n",
    "{tables}\n",
    "\n",
    "Tell me which tables would be necessary to query with SQL to address the user's question below.\n",
    "Return the table names in a json format.\n",
    "###User Questyion:\n",
    "{question}\n",
    "\"\"\"\n"
   ]
  },
  {
   "cell_type": "code",
   "execution_count": 13,
   "id": "b1cb5957-2df2-4e5e-9e6a-ace955c9817e",
   "metadata": {
    "id": "b1cb5957-2df2-4e5e-9e6a-ace955c9817e"
   },
   "outputs": [],
   "source": [
    "#Creating the prompt, with the user questions and the tables definitions.\n",
    "pqt1 = prompt_question_tables.format(tables=text_tables, question= \"Which employees have a master's degree and started after 2015?\")#ENTER YOUR QUERY HERE)"
   ]
  },
  {
   "cell_type": "code",
   "execution_count": 14,
   "id": "10d30f2b-6c23-4fd6-8038-840fba784cce",
   "metadata": {
    "id": "10d30f2b-6c23-4fd6-8038-840fba784cce",
    "outputId": "9924022c-7b2b-4ec8-e2c2-75bc1c745151",
    "scrolled": true
   },
   "outputs": [
    {
     "name": "stdout",
     "output_type": "stream",
     "text": [
      "{\n",
      "    \"tables\": [\"employees\", \"studies\"]\n",
      "}\n"
     ]
    }
   ],
   "source": [
    "print(return_OAI(pqt1))"
   ]
  },
  {
   "cell_type": "code",
   "execution_count": null,
   "id": "62908f43",
   "metadata": {},
   "outputs": [],
   "source": [
    "prompt_question_tables = \"\"\"\n",
    "Given the following tables and their full definitions:\n",
    "\n",
    "### Tables\n",
    "{tables}\n",
    "\n",
    "From the user's question below, identify which tables are needed to write the SQL query.\n",
    "\n",
    "Return your answer as a JSON object like this:\n",
    "{{\n",
    "    \"tables\": {{\n",
    "        \"table_name\": \"short description or label from the full definition\"\n",
    "    }}\n",
    "}}\n",
    "\n",
    "Only include relevant tables and use a short title based on each table's description.\n",
    "\n",
    "### User Question:\n",
    "{question}\n",
    "\"\"\"\n"
   ]
  },
  {
   "cell_type": "code",
   "execution_count": 27,
   "id": "57e07083-be8f-4cd0-95bd-c4b909422c6b",
   "metadata": {
    "id": "57e07083-be8f-4cd0-95bd-c4b909422c6b"
   },
   "outputs": [],
   "source": [
    "pqt3 = prompt_question_tables.format(tables=text_tables,\n",
    "                                     question=\"Find employees who earned a bonus in 2022 and also have a postgraduate degree.\")#ENTER YOUR QUERY HERE)"
   ]
  },
  {
   "cell_type": "code",
   "execution_count": 28,
   "id": "a0eeb79e-caf1-4f48-9897-168d95d2ae37",
   "metadata": {
    "id": "a0eeb79e-caf1-4f48-9897-168d95d2ae37",
    "outputId": "81d77115-9cad-4284-a228-5368bb9aa6fb"
   },
   "outputs": [
    {
     "name": "stdout",
     "output_type": "stream",
     "text": [
      "{\n",
      "    \"tables\": {\n",
      "        \"employees\": \"Employee information, name, position, department, and start date.\",\n",
      "        \"salary\": \"Salary details for each year, including base, bonus, and adjustments.\",\n",
      "        \"studies\": \"Educational studies, name of the institution, degree, and graduation year.\"\n",
      "    }\n",
      "}\n"
     ]
    }
   ],
   "source": [
    "print(return_OAI(pqt3))"
   ]
  },
  {
   "cell_type": "code",
   "execution_count": 29,
   "id": "660ddb5d",
   "metadata": {},
   "outputs": [],
   "source": [
    "prompt_question_tables = \"\"\"\n",
    "Given the following tables and their full definitions:\n",
    "\n",
    "### Tables\n",
    "{tables}\n",
    "\n",
    "From the user's question below, identify which tables are needed to write the SQL query.\n",
    "\n",
    "Return your answer as a JSON object like this:\n",
    "{{\n",
    "    \"tables\": {{\n",
    "        \"table_name\": \"short label or title for that table (not the full definition)\"\n",
    "    }}\n",
    "}}\n",
    "\n",
    "Use only the short label or topic of each table, not the full description. Be concise.\n",
    "\n",
    "### User Question:\n",
    "{question}\n",
    "\"\"\"\n"
   ]
  },
  {
   "cell_type": "code",
   "execution_count": 30,
   "id": "97bf90cb",
   "metadata": {},
   "outputs": [
    {
     "name": "stdout",
     "output_type": "stream",
     "text": [
      "{\n",
      "    \"tables\": {\n",
      "        \"employees\": \"Employee information\",\n",
      "        \"salary\": \"Salary details\",\n",
      "        \"studies\": \"Educational studies\"\n",
      "    }\n",
      "}\n"
     ]
    }
   ],
   "source": [
    "pqt3 = prompt_question_tables.format(\n",
    "    tables=text_tables,\n",
    "    question= \"Find employees who earned a bonus in 2022 and also have a postgraduate degree.\"\n",
    ")\n",
    "\n",
    "print(return_OAI(pqt3))\n"
   ]
  },
  {
   "cell_type": "code",
   "execution_count": 32,
   "id": "9e6d1f82",
   "metadata": {},
   "outputs": [
    {
     "name": "stdout",
     "output_type": "stream",
     "text": [
      "{\n",
      "    \"tables\": {\n",
      "        \"employees\": \"To filter employees hired after 2015\",\n",
      "        \"studies\": \"To check for employees with a master's degree\"\n",
      "    }\n",
      "}\n"
     ]
    }
   ],
   "source": [
    "prompt_find_tables_explained = \"\"\"\n",
    "Given the following table descriptions:\n",
    "\n",
    "{tables}\n",
    "\n",
    "Based on the user's question below, list only the tables that are needed to answer it using SQL.\n",
    "For each table, provide a short one-line reason why it is needed.\n",
    "\n",
    "### User Question:\n",
    "{question}\n",
    "\n",
    "Return the result as a JSON object like this:\n",
    "{{\n",
    "    \"tables\": {{\n",
    "        \"table_name\": \"short reason why this table is required\"\n",
    "    }}\n",
    "}}\n",
    "\"\"\"\n",
    "\n",
    "pqt4 = prompt_find_tables_explained.format(\n",
    "    tables=text_tables,\n",
    "    question=\"List employees hired after 2015 with a master's degree.\"\n",
    ")\n",
    "\n",
    "print(return_OAI(pqt4))"
   ]
  },
  {
   "cell_type": "code",
   "execution_count": 33,
   "id": "becbe0d3",
   "metadata": {},
   "outputs": [
    {
     "name": "stdout",
     "output_type": "stream",
     "text": [
      "To retrieve employees with a bonus greater than 1000 and a PhD, we need to query the `employees` table to get the employee information and then join it with the `salary` table to check for a bonus greater than 1000. Additionally, we need to join the `studies` table to filter employees with a PhD degree. The relationship between the tables is established through a common identifier, such as employee ID.\n"
     ]
    }
   ],
   "source": [
    "prompt_explain_query = \"\"\"\n",
    "You are a helpful assistant that understands database structures.\n",
    "\n",
    "Here are the available tables:\n",
    "\n",
    "{tables}\n",
    "\n",
    "Based on the following user request, explain in plain English what kind of data should be retrieved and how the tables are related.\n",
    "\n",
    "### User Question:\n",
    "{question}\n",
    "\n",
    "Provide your explanation in 2-3 sentences.\n",
    "\"\"\"\n",
    "\n",
    "pqt5 = prompt_explain_query.format(\n",
    "    tables=text_tables,\n",
    "    question=\"Get employees with a bonus greater than 1000 and a PhD.\"\n",
    ")\n",
    "\n",
    "print(return_OAI(pqt5))\n"
   ]
  },
  {
   "cell_type": "code",
   "execution_count": 34,
   "id": "85448970",
   "metadata": {},
   "outputs": [
    {
     "name": "stdout",
     "output_type": "stream",
     "text": [
      "1. What criteria define a \"high bonus\" in this context? Is it a specific amount or a percentage of the base salary?\n",
      "2. Are there any specific years or time periods for which the bonus should be considered, or should we look at all available data in the salary table?\n"
     ]
    }
   ],
   "source": [
    "prompt_improve_question = \"\"\"\n",
    "Given the following table descriptions:\n",
    "\n",
    "{tables}\n",
    "\n",
    "Here is a user's question about the database:\n",
    "\n",
    "### User Question:\n",
    "{question}\n",
    "\n",
    "Suggest one or two clarifying follow-up questions the user could answer to improve the precision of their SQL query.\n",
    "Respond as a list of questions.\n",
    "\"\"\"\n",
    "\n",
    "pqt6 = prompt_improve_question.format(\n",
    "    tables=text_tables,\n",
    "    question=\"Show employees who earned a high bonus.\"\n",
    ")\n",
    "\n",
    "print(return_OAI(pqt6))\n"
   ]
  },
  {
   "cell_type": "markdown",
   "id": "321bb9a2-4937-4e9a-a31b-7049cb8f5aa3",
   "metadata": {
    "id": "321bb9a2-4937-4e9a-a31b-7049cb8f5aa3"
   },
   "source": [
    "# Exercise\n",
    " - Complete the prompts similar to what we did in class. \n",
    "     - Try a few versions if you have time\n",
    "     - Be creative\n",
    " - Write a one page report summarizing your findings.\n",
    "     - Were there variations that didn't work well? i.e., where GPT either hallucinated or wrong\n",
    " - What did you learn?"
   ]
  },
  {
   "cell_type": "markdown",
   "id": "2ec869a4",
   "metadata": {},
   "source": [
    "## GPT SQL Reasoning Evaluation Report\n",
    "I tested three different prompt styles to explore how well GPT identifies relevant tables, explains queries in plain English, and suggests follow-up clarifying questions.\n",
    "\n",
    "1. Prompt: \"Which tables are needed?\"\n",
    "\n",
    "Result:\n",
    "{\n",
    "  \"tables\": {\n",
    "    \"employees\": \"To filter employees hired after 2015\",\n",
    "    \"studies\": \"To check for employees with a master's degree\"\n",
    "  }\n",
    "}\n",
    "\n",
    "Evaluation: GPT correctly identified only the relevant tables and gave short, logical reasons for each. The format matched expectations and there were no hallucinations.\n",
    "\n",
    "\n",
    "2. Prompt: \"Explain the query in plain English\"\n",
    "\n",
    "Result: GPT clearly described the data retrieval process using joins across employees, salary, and studies, explaining how to filter for a bonus and a PhD.\n",
    "\n",
    "Evaluation: The explanation was clear and accurate. It correctly inferred relationships and logical query steps. No issues found.\n",
    "\n",
    "\n",
    "3. Prompt: \"Suggest clarifying follow-up questions\"\n",
    "\n",
    "Result: GPT returned:\n",
    "\n",
    "What defines a \"high bonus\"?\n",
    "\n",
    "Are there specific years or time periods?\n",
    "\n",
    "Evaluation: Both follow-up questions were insightful and relevant, helping refine the query. This prompt worked well for improving precision.\n",
    "\n",
    "## What I Learned\n",
    "- GPT performs well with structured prompts and gives consistent, accurate results when formatting is clearly defined.\n",
    "\n",
    "- It’s useful for breaking down SQL logic and encouraging query clarity.\n",
    "\n",
    "- Prompt wording matters — being specific about format (short label vs. full description) makes a big difference."
   ]
  }
 ],
 "metadata": {
  "colab": {
   "include_colab_link": true,
   "provenance": []
  },
  "kernelspec": {
   "display_name": "base",
   "language": "python",
   "name": "python3"
  },
  "language_info": {
   "codemirror_mode": {
    "name": "ipython",
    "version": 3
   },
   "file_extension": ".py",
   "mimetype": "text/x-python",
   "name": "python",
   "nbconvert_exporter": "python",
   "pygments_lexer": "ipython3",
   "version": "3.12.4"
  }
 },
 "nbformat": 4,
 "nbformat_minor": 5
}
